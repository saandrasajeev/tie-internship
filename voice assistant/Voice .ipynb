{
 "cells": [
  {
   "cell_type": "code",
   "execution_count": 1,
   "id": "c3117b16",
   "metadata": {},
   "outputs": [],
   "source": [
    "#pip install twilio"
   ]
  },
  {
   "cell_type": "code",
   "execution_count": 2,
   "id": "b063b629",
   "metadata": {},
   "outputs": [],
   "source": [
    "#pip install ecapture"
   ]
  },
  {
   "cell_type": "code",
   "execution_count": 3,
   "id": "bcbf21da",
   "metadata": {},
   "outputs": [],
   "source": [
    "#pip install beautifulsoup4"
   ]
  },
  {
   "cell_type": "code",
   "execution_count": 5,
   "id": "e2457de2",
   "metadata": {},
   "outputs": [],
   "source": [
    "#pip install clint"
   ]
  },
  {
   "cell_type": "code",
   "execution_count": 6,
   "id": "49e4d6e9",
   "metadata": {},
   "outputs": [],
   "source": [
    "#pip install ecapture"
   ]
  },
  {
   "cell_type": "code",
   "execution_count": 7,
   "id": "acd63c70",
   "metadata": {},
   "outputs": [],
   "source": [
    "#pip install sckit-learn"
   ]
  },
  {
   "cell_type": "code",
   "execution_count": 8,
   "id": "8913c2d1",
   "metadata": {},
   "outputs": [],
   "source": [
    "#pip install feedparser"
   ]
  },
  {
   "cell_type": "code",
   "execution_count": 9,
   "id": "add3faf7",
   "metadata": {},
   "outputs": [],
   "source": [
    "#pip install wolframalpha"
   ]
  },
  {
   "cell_type": "code",
   "execution_count": 10,
   "id": "a4d2773c",
   "metadata": {},
   "outputs": [],
   "source": [
    "#pip install pipenv"
   ]
  },
  {
   "cell_type": "code",
   "execution_count": 11,
   "id": "1356e5aa",
   "metadata": {},
   "outputs": [],
   "source": [
    "#pip install pyttsx3"
   ]
  },
  {
   "cell_type": "code",
   "execution_count": 12,
   "id": "f542346d",
   "metadata": {},
   "outputs": [],
   "source": [
    "#pip install winshell"
   ]
  },
  {
   "cell_type": "code",
   "execution_count": 13,
   "id": "4a2d33f4",
   "metadata": {},
   "outputs": [],
   "source": [
    "#pip install pyjokes"
   ]
  },
  {
   "cell_type": "code",
   "execution_count": 1,
   "id": "2f4793d0",
   "metadata": {},
   "outputs": [],
   "source": [
    "import subprocess\n",
    "import wolframalpha\n",
    "import pyttsx3\n",
    "import tkinter\n",
    "import json\n",
    "import random\n",
    "import operator\n",
    "import speech_recognition as sr\n",
    "import datetime\n",
    "import wikipedia\n",
    "import webbrowser\n",
    "import os\n",
    "import winshell\n",
    "import pyjokes\n",
    "import feedparser\n",
    "import smtplib\n",
    "import ctypes\n",
    "import time\n",
    "import requests\n",
    "import shutil\n",
    "import cv2\n",
    "from ecapture import ecapture as ec\n",
    "from twilio.rest import Client\n",
    "from clint.textui import progress\n",
    "\n",
    "from bs4 import BeautifulSoup\n",
    "import win32com.client as wincl\n",
    "from urllib.request import urlopen\n"
   ]
  },
  {
   "cell_type": "code",
   "execution_count": 14,
   "id": "2efb1bfa",
   "metadata": {},
   "outputs": [],
   "source": [
    "engine = pyttsx3.init('sapi5')\n",
    "voices = engine.getProperty('voices')\n",
    "engine.setProperty('voice', voices[1].id)\n"
   ]
  },
  {
   "cell_type": "code",
   "execution_count": 18,
   "id": "10742394",
   "metadata": {},
   "outputs": [],
   "source": [
    "def speak(audio):\n",
    "\tengine.say(audio)\n",
    "\tengine.runAndWait()\n",
    "\n",
    "def wishMe():\n",
    "\thour = int(datetime.datetime.now().hour)\n",
    "\tif hour>= 0 and hour<12:\n",
    "\t\tspeak(\"Good Morning Sir !\")\n",
    "\n",
    "\telif hour>= 12 and hour<18:\n",
    "\t\tspeak(\"Good Afternoon Sir !\")\n",
    "\n",
    "\telse:\n",
    "\t\tspeak(\"Good Evening Sir !\")\n",
    "\n",
    "\tassname =(\"Jarvis 1 point o\")\n",
    "\tspeak(\"I am your Assistant\")\n",
    "\tspeak(assname)\n",
    "\t\n",
    "\n",
    "def username():\n",
    "\tspeak(\"What should i call you sir\")\n",
    "\tuname = takeCommand()\n",
    "\tspeak(\"Welcome Mister\")\n",
    "\tspeak(uname)\n",
    "\tcolumns = shutil.get_terminal_size().columns\n",
    "\t\n",
    "\tprint(\"#####################\".center(columns))\n",
    "\tprint(\"Welcome Mr.\", uname.center(columns))\n",
    "\tprint(\"#####################\".center(columns))\n",
    "\t\n",
    "\tspeak(\"How can i Help you, Sir\")\n",
    "\n",
    "def takeCommand():\n",
    "\t\n",
    "\tr = sr.Recognizer()\n",
    "\t\n",
    "\twith sr.Microphone() as source:\n",
    "\t\t\n",
    "\t\tprint(\"Listening...\")\n",
    "\t\tr.pause_threshold = 1\n",
    "\t\taudio = r.listen(source)\n",
    "\n",
    "\ttry:\n",
    "\t\tprint(\"Recognizing...\")\n",
    "\t\tquery = r.recognize_google(audio, language ='en-in')\n",
    "\t\tprint(f\"User said: {query}\\n\")\n",
    "\n",
    "\texcept Exception as e:\n",
    "\t\tprint(e)\n",
    "\t\tprint(\"Unable to Recognize your voice.\")\n",
    "\t\treturn \"None\"\n",
    "\treturn query\n",
    "\n"
   ]
  },
  {
   "cell_type": "code",
   "execution_count": 19,
   "id": "3d832203",
   "metadata": {},
   "outputs": [
    {
     "ename": "AttributeError",
     "evalue": "Could not find PyAudio; check installation",
     "output_type": "error",
     "traceback": [
      "\u001b[1;31m---------------------------------------------------------------------------\u001b[0m",
      "\u001b[1;31mModuleNotFoundError\u001b[0m                       Traceback (most recent call last)",
      "\u001b[1;32m~\\anaconda3\\lib\\site-packages\\speech_recognition\\__init__.py\u001b[0m in \u001b[0;36mget_pyaudio\u001b[1;34m()\u001b[0m\n\u001b[0;32m    107\u001b[0m         \u001b[1;32mtry\u001b[0m\u001b[1;33m:\u001b[0m\u001b[1;33m\u001b[0m\u001b[1;33m\u001b[0m\u001b[0m\n\u001b[1;32m--> 108\u001b[1;33m             \u001b[1;32mimport\u001b[0m \u001b[0mpyaudio\u001b[0m\u001b[1;33m\u001b[0m\u001b[1;33m\u001b[0m\u001b[0m\n\u001b[0m\u001b[0;32m    109\u001b[0m         \u001b[1;32mexcept\u001b[0m \u001b[0mImportError\u001b[0m\u001b[1;33m:\u001b[0m\u001b[1;33m\u001b[0m\u001b[1;33m\u001b[0m\u001b[0m\n",
      "\u001b[1;31mModuleNotFoundError\u001b[0m: No module named 'pyaudio'",
      "\nDuring handling of the above exception, another exception occurred:\n",
      "\u001b[1;31mAttributeError\u001b[0m                            Traceback (most recent call last)",
      "\u001b[1;32m~\\AppData\\Local\\Temp/ipykernel_3088/958509474.py\u001b[0m in \u001b[0;36m<module>\u001b[1;34m\u001b[0m\n\u001b[0;32m      6\u001b[0m         \u001b[0mclear\u001b[0m\u001b[1;33m(\u001b[0m\u001b[1;33m)\u001b[0m\u001b[1;33m\u001b[0m\u001b[1;33m\u001b[0m\u001b[0m\n\u001b[0;32m      7\u001b[0m         \u001b[0mwishMe\u001b[0m\u001b[1;33m(\u001b[0m\u001b[1;33m)\u001b[0m\u001b[1;33m\u001b[0m\u001b[1;33m\u001b[0m\u001b[0m\n\u001b[1;32m----> 8\u001b[1;33m         \u001b[0musername\u001b[0m\u001b[1;33m(\u001b[0m\u001b[1;33m)\u001b[0m\u001b[1;33m\u001b[0m\u001b[1;33m\u001b[0m\u001b[0m\n\u001b[0m\u001b[0;32m      9\u001b[0m \u001b[1;33m\u001b[0m\u001b[0m\n\u001b[0;32m     10\u001b[0m         \u001b[1;32mwhile\u001b[0m \u001b[1;32mTrue\u001b[0m\u001b[1;33m:\u001b[0m\u001b[1;33m\u001b[0m\u001b[1;33m\u001b[0m\u001b[0m\n",
      "\u001b[1;32m~\\AppData\\Local\\Temp/ipykernel_3088/2061291884.py\u001b[0m in \u001b[0;36musername\u001b[1;34m()\u001b[0m\n\u001b[0;32m     21\u001b[0m \u001b[1;32mdef\u001b[0m \u001b[0musername\u001b[0m\u001b[1;33m(\u001b[0m\u001b[1;33m)\u001b[0m\u001b[1;33m:\u001b[0m\u001b[1;33m\u001b[0m\u001b[1;33m\u001b[0m\u001b[0m\n\u001b[0;32m     22\u001b[0m         \u001b[0mspeak\u001b[0m\u001b[1;33m(\u001b[0m\u001b[1;34m\"What should i call you sir\"\u001b[0m\u001b[1;33m)\u001b[0m\u001b[1;33m\u001b[0m\u001b[1;33m\u001b[0m\u001b[0m\n\u001b[1;32m---> 23\u001b[1;33m         \u001b[0muname\u001b[0m \u001b[1;33m=\u001b[0m \u001b[0mtakeCommand\u001b[0m\u001b[1;33m(\u001b[0m\u001b[1;33m)\u001b[0m\u001b[1;33m\u001b[0m\u001b[1;33m\u001b[0m\u001b[0m\n\u001b[0m\u001b[0;32m     24\u001b[0m         \u001b[0mspeak\u001b[0m\u001b[1;33m(\u001b[0m\u001b[1;34m\"Welcome Mister\"\u001b[0m\u001b[1;33m)\u001b[0m\u001b[1;33m\u001b[0m\u001b[1;33m\u001b[0m\u001b[0m\n\u001b[0;32m     25\u001b[0m         \u001b[0mspeak\u001b[0m\u001b[1;33m(\u001b[0m\u001b[0muname\u001b[0m\u001b[1;33m)\u001b[0m\u001b[1;33m\u001b[0m\u001b[1;33m\u001b[0m\u001b[0m\n",
      "\u001b[1;32m~\\AppData\\Local\\Temp/ipykernel_3088/2061291884.py\u001b[0m in \u001b[0;36mtakeCommand\u001b[1;34m()\u001b[0m\n\u001b[0;32m     36\u001b[0m         \u001b[0mr\u001b[0m \u001b[1;33m=\u001b[0m \u001b[0msr\u001b[0m\u001b[1;33m.\u001b[0m\u001b[0mRecognizer\u001b[0m\u001b[1;33m(\u001b[0m\u001b[1;33m)\u001b[0m\u001b[1;33m\u001b[0m\u001b[1;33m\u001b[0m\u001b[0m\n\u001b[0;32m     37\u001b[0m \u001b[1;33m\u001b[0m\u001b[0m\n\u001b[1;32m---> 38\u001b[1;33m         \u001b[1;32mwith\u001b[0m \u001b[0msr\u001b[0m\u001b[1;33m.\u001b[0m\u001b[0mMicrophone\u001b[0m\u001b[1;33m(\u001b[0m\u001b[1;33m)\u001b[0m \u001b[1;32mas\u001b[0m \u001b[0msource\u001b[0m\u001b[1;33m:\u001b[0m\u001b[1;33m\u001b[0m\u001b[1;33m\u001b[0m\u001b[0m\n\u001b[0m\u001b[0;32m     39\u001b[0m \u001b[1;33m\u001b[0m\u001b[0m\n\u001b[0;32m     40\u001b[0m                 \u001b[0mprint\u001b[0m\u001b[1;33m(\u001b[0m\u001b[1;34m\"Listening...\"\u001b[0m\u001b[1;33m)\u001b[0m\u001b[1;33m\u001b[0m\u001b[1;33m\u001b[0m\u001b[0m\n",
      "\u001b[1;32m~\\anaconda3\\lib\\site-packages\\speech_recognition\\__init__.py\u001b[0m in \u001b[0;36m__init__\u001b[1;34m(self, device_index, sample_rate, chunk_size)\u001b[0m\n\u001b[0;32m     77\u001b[0m \u001b[1;33m\u001b[0m\u001b[0m\n\u001b[0;32m     78\u001b[0m         \u001b[1;31m# set up PyAudio\u001b[0m\u001b[1;33m\u001b[0m\u001b[1;33m\u001b[0m\u001b[0m\n\u001b[1;32m---> 79\u001b[1;33m         \u001b[0mself\u001b[0m\u001b[1;33m.\u001b[0m\u001b[0mpyaudio_module\u001b[0m \u001b[1;33m=\u001b[0m \u001b[0mself\u001b[0m\u001b[1;33m.\u001b[0m\u001b[0mget_pyaudio\u001b[0m\u001b[1;33m(\u001b[0m\u001b[1;33m)\u001b[0m\u001b[1;33m\u001b[0m\u001b[1;33m\u001b[0m\u001b[0m\n\u001b[0m\u001b[0;32m     80\u001b[0m         \u001b[0maudio\u001b[0m \u001b[1;33m=\u001b[0m \u001b[0mself\u001b[0m\u001b[1;33m.\u001b[0m\u001b[0mpyaudio_module\u001b[0m\u001b[1;33m.\u001b[0m\u001b[0mPyAudio\u001b[0m\u001b[1;33m(\u001b[0m\u001b[1;33m)\u001b[0m\u001b[1;33m\u001b[0m\u001b[1;33m\u001b[0m\u001b[0m\n\u001b[0;32m     81\u001b[0m         \u001b[1;32mtry\u001b[0m\u001b[1;33m:\u001b[0m\u001b[1;33m\u001b[0m\u001b[1;33m\u001b[0m\u001b[0m\n",
      "\u001b[1;32m~\\anaconda3\\lib\\site-packages\\speech_recognition\\__init__.py\u001b[0m in \u001b[0;36mget_pyaudio\u001b[1;34m()\u001b[0m\n\u001b[0;32m    108\u001b[0m             \u001b[1;32mimport\u001b[0m \u001b[0mpyaudio\u001b[0m\u001b[1;33m\u001b[0m\u001b[1;33m\u001b[0m\u001b[0m\n\u001b[0;32m    109\u001b[0m         \u001b[1;32mexcept\u001b[0m \u001b[0mImportError\u001b[0m\u001b[1;33m:\u001b[0m\u001b[1;33m\u001b[0m\u001b[1;33m\u001b[0m\u001b[0m\n\u001b[1;32m--> 110\u001b[1;33m             \u001b[1;32mraise\u001b[0m \u001b[0mAttributeError\u001b[0m\u001b[1;33m(\u001b[0m\u001b[1;34m\"Could not find PyAudio; check installation\"\u001b[0m\u001b[1;33m)\u001b[0m\u001b[1;33m\u001b[0m\u001b[1;33m\u001b[0m\u001b[0m\n\u001b[0m\u001b[0;32m    111\u001b[0m         \u001b[1;32mfrom\u001b[0m \u001b[0mdistutils\u001b[0m\u001b[1;33m.\u001b[0m\u001b[0mversion\u001b[0m \u001b[1;32mimport\u001b[0m \u001b[0mLooseVersion\u001b[0m\u001b[1;33m\u001b[0m\u001b[1;33m\u001b[0m\u001b[0m\n\u001b[0;32m    112\u001b[0m         \u001b[1;32mif\u001b[0m \u001b[0mLooseVersion\u001b[0m\u001b[1;33m(\u001b[0m\u001b[0mpyaudio\u001b[0m\u001b[1;33m.\u001b[0m\u001b[0m__version__\u001b[0m\u001b[1;33m)\u001b[0m \u001b[1;33m<\u001b[0m \u001b[0mLooseVersion\u001b[0m\u001b[1;33m(\u001b[0m\u001b[1;34m\"0.2.11\"\u001b[0m\u001b[1;33m)\u001b[0m\u001b[1;33m:\u001b[0m\u001b[1;33m\u001b[0m\u001b[1;33m\u001b[0m\u001b[0m\n",
      "\u001b[1;31mAttributeError\u001b[0m: Could not find PyAudio; check installation"
     ]
    }
   ],
   "source": [
    "if __name__ == '__main__':\n",
    "\tclear = lambda: os.system('cls')\n",
    "\t\n",
    "\t# This Function will clean any\n",
    "\t# command before execution of this python file\n",
    "\tclear()\n",
    "\twishMe()\n",
    "\tusername()\n",
    "\t\n",
    "\twhile True:\n",
    "\t\t\n",
    "\t\tquery = takeCommand().lower()\n",
    "\t\t\n",
    "\t\t# All the commands said by user will be\n",
    "\t\t# stored here in 'query' and will be\n",
    "\t\t# converted to lower case for easily\n",
    "\t\t# recognition of command\n",
    "\t\tif 'wikipedia' in query:\n",
    "\t\t\tspeak('Searching Wikipedia...')\n",
    "\t\t\tquery = query.replace(\"wikipedia\", \"\")\n",
    "\t\t\tresults = wikipedia.summary(query, sentences = 3)\n",
    "\t\t\tspeak(\"According to Wikipedia\")\n",
    "\t\t\tprint(results)\n",
    "\t\t\tspeak(results)\n",
    "\n",
    "\t\telif 'open youtube' in query:\n",
    "\t\t\tspeak(\"Here you go to Youtube\\n\")\n",
    "\t\t\twebbrowser.open(\"youtube.com\")\n",
    "\n",
    "\t\telif 'open google' in query:\n",
    "\t\t\tspeak(\"Here you go to Google\\n\")\n",
    "\t\t\twebbrowser.open(\"google.com\")\n",
    "\n",
    "\t\telif 'open stackoverflow' in query:\n",
    "\t\t\tspeak(\"Here you go to Stack Over flow.Happy coding\")\n",
    "\t\t\twebbrowser.open(\"stackoverflow.com\")\n",
    "\n",
    "\t\telif 'play music' in query or \"play song\" in query:\n",
    "\t\t\tspeak(\"Here you go with music\")\n",
    "\t\t\t# music_dir = \"G:\\\\Song\"\n",
    "\t\t\tmusic_dir = \"C:\\\\Users\\\\GAURAV\\\\Music\"\n",
    "\t\t\tsongs = os.listdir(music_dir)\n",
    "\t\t\tprint(songs)\n",
    "\t\t\trandom = os.startfile(os.path.join(music_dir, songs[1]))\n",
    "\n",
    "\t\telif 'the time' in query:\n",
    "\t\t\tstrTime = datetime.datetime.now().strftime(\"% H:% M:% S\")\n",
    "\t\t\tspeak(f\"Sir, the time is {strTime}\")\n",
    "\n",
    "\t\telif 'how are you' in query:\n",
    "\t\t\tspeak(\"I am fine, Thank you\")\n",
    "\t\t\tspeak(\"How are you, Sir\")\n",
    "\n",
    "\t\telif 'fine' in query or \"good\" in query:\n",
    "\t\t\tspeak(\"It's good to know that your fine\")\n",
    "\n",
    "\t\telif \"change my name to\" in query:\n",
    "\t\t\tquery = query.replace(\"change my name to\", \"\")\n",
    "\t\t\tassname = query\n",
    "\n",
    "\t\telif \"change name\" in query:\n",
    "\n",
    "\t\telif \"who made you\" in query or \"who created you\" in query:\n",
    "\t\t\tspeak(\"I have been created by Gaurav.\")\n",
    "\t\t\t\n",
    "\t\telif 'joke' in query:\n",
    "\t\t\tspeak(pyjokes.get_joke())\n",
    "\t\t\t\n",
    "\t\telif \"calculate\" in query:\n",
    "\t\t\t\n",
    "\t\t\tapp_id = \"Wolframalpha api id\"\n",
    "\t\t\tclient = wolframalpha.Client(app_id)\n",
    "\t\t\tindx = query.lower().split().index('calculate')\n",
    "\t\t\tquery = query.split()[indx + 1:]\n",
    "\t\t\tres = client.query(' '.join(query))\n",
    "\t\t\tanswer = next(res.results).text\n",
    "\t\t\tprint(\"The answer is \" + answer)\n",
    "\t\t\tspeak(\"The answer is \" + answer)\n",
    "\n",
    "\t\telif 'search' in query or 'play' in query:\n",
    "\t\t\t\n",
    "\t\t\tquery = query.replace(\"search\", \"\")\n",
    "\t\t\tquery = query.replace(\"play\", \"\")\t\t\n",
    "\t\t\twebbrowser.open(query)\n",
    "\n",
    "\t\telif \"who i am\" in query:\n",
    "\t\t\tspeak(\"If you talk then definitely your human.\")\n",
    "\n",
    "\t\telif \"who are you\" in query:\n",
    "\t\t\tspeak(\"I am your virtual assistant created by Tie interns\")\n",
    "\n",
    "\t\telif 'reason for you' in query:\n",
    "\t\t\tspeak(\"I was created as a Project by tie interns \")\n",
    "\n",
    "\t\telif 'change background' in query:\n",
    "\t\t\tctypes.windll.user32.SystemParametersInfoW(20,\n",
    "\t\t\t\t\t\t\t\t\t\t\t\t\t0,\n",
    "\t\t\t\t\t\t\t\t\t\t\t\t\t\"Location of wallpaper\",\n",
    "\t\t\t\t\t\t\t\t\t\t\t\t\t0)\n",
    "\t\t\tspeak(\"Background changed successfully\")\n",
    "\n",
    "\t\telif 'news' in query:\n",
    "\t\t\t\n",
    "\t\t\ttry:\n",
    "\t\t\t\tjsonObj = urlopen('''https://newsapi.org / v1 / articles?source = the-times-of-india&sortBy = top&apiKey =\\\\times of India Api key\\\\''')\n",
    "\t\t\t\tdata = json.load(jsonObj)\n",
    "\t\t\t\ti = 1\n",
    "\t\t\t\t\n",
    "\t\t\t\tspeak('here are some top news from the times of india')\n",
    "\t\t\t\tprint('''=============== TIMES OF INDIA ============'''+ '\\n')\n",
    "\t\t\t\t\n",
    "\t\t\t\tfor item in data['articles']:\n",
    "\t\t\t\t\t\n",
    "\t\t\t\t\tprint(str(i) + '. ' + item['title'] + '\\n')\n",
    "\t\t\t\t\tprint(item['description'] + '\\n')\n",
    "\t\t\t\t\tspeak(str(i) + '. ' + item['title'] + '\\n')\n",
    "\t\t\t\t\ti += 1\n",
    "\t\t\texcept Exception as e:\n",
    "\t\t\t\t\n",
    "\t\t\t\tprint(str(e))\n",
    "\n",
    "\t\t\n",
    "\t\telif 'lock window' in query:\n",
    "\t\t\t\tspeak(\"locking the device\")\n",
    "\t\t\t\tctypes.windll.user32.LockWorkStation()\n",
    "\n",
    "\t\telif 'shutdown system' in query:\n",
    "\t\t\t\tspeak(\"Hold On a Sec ! Your system is on its way to shut down\")\n",
    "\t\t\t\tsubprocess.call('shutdown / p /f')\n",
    "\t\t\t\t\n",
    "\t\telif 'empty recycle bin' in query:\n",
    "\t\t\twinshell.recycle_bin().empty(confirm = False, show_progress = False, sound = True)\n",
    "\t\t\tspeak(\"Recycle Bin Recycled\")\n",
    "\n",
    "\t\telif \"don't listen\" in query or \"stop listening\" in query:\n",
    "\t\t\tspeak(\"for how much time you want to stop TIE from listening commands\")\n",
    "\t\t\ta = int(takeCommand())\n",
    "\t\t\ttime.sleep(a)\n",
    "\t\t\tprint(a)\n",
    "\n",
    "\t\telif \"where is\" in query:\n",
    "\t\t\tquery = query.replace(\"where is\", \"\")\n",
    "\t\t\tlocation = query\n",
    "\t\t\tspeak(\"User asked to Locate\")\n",
    "\t\t\tspeak(location)\n",
    "\t\t\twebbrowser.open(\"https://www.google.nl / maps / place/\" + location + \"\")\n",
    "\n",
    "\t\telif \"camera\" in query or \"take a photo\" in query:\n",
    "\t\t\tec.capture(0, \"Jarvis Camera \", \"img.jpg\")\n",
    "            \n",
    "        elif \"object detection\" in query:\n",
    "\t\t\tec.capture(0, \"Jarvis Camera \", \"img.jpg\")\n",
    "            \n",
    "\n",
    "\t\telif \"restart\" in query:\n",
    "\t\t\tsubprocess.call([\"shutdown\", \"/r\"])\n",
    "\t\t\t\n",
    "\t\telif \"hibernate\" in query or \"sleep\" in query:\n",
    "\t\t\tspeak(\"Hibernating\")\n",
    "\t\t\tsubprocess.call(\"shutdown / h\")\n",
    "\n",
    "\t\telif \"log off\" in query or \"sign out\" in query:\n",
    "\t\t\tspeak(\"Make sure all the application are closed before sign-out\")\n",
    "\t\t\ttime.sleep(5)\n",
    "\t\t\tsubprocess.call([\"shutdown\", \"/l\"])\n",
    "\n",
    "\t\telif \"write a note\" in query:\n",
    "\t\t\tspeak(\"What should i write, sir\")\n",
    "\t\t\tnote = takeCommand()\n",
    "\t\t\tfile = open('jarvis.txt', 'w')\n",
    "\t\t\tspeak(\"Sir, Should i include date and time\")\n",
    "\t\t\tsnfm = takeCommand()\n",
    "\t\t\tif 'yes' in snfm or 'sure' in snfm:\n",
    "\t\t\t\tstrTime = datetime.datetime.now().strftime(\"% H:% M:% S\")\n",
    "\t\t\t\tfile.write(strTime)\n",
    "\t\t\t\tfile.write(\" :- \")\n",
    "\t\t\t\tfile.write(note)\n",
    "\t\t\telse:\n",
    "\t\t\t\tfile.write(note)\n",
    "\t\t\n",
    "\t\telif \"show note\" in query:\n",
    "\t\t\tspeak(\"Showing Notes\")\n",
    "\t\t\tfile = open(\"jarvis.txt\", \"r\")\n",
    "\t\t\tprint(file.read())\n",
    "\t\t\tspeak(file.read(6))\n",
    "\n",
    "\t\telif \"update assistant\" in query:\n",
    "\t\t\tspeak(\"After downloading file please replace this file with the downloaded one\")\n",
    "\t\t\turl = '# url after uploading file'\n",
    "\t\t\tr = requests.get(url, stream = True)\n",
    "\t\t\t\n",
    "\t\t\twith open(\"Voice.py\", \"wb\") as Pypdf:\n",
    "\t\t\t\t\n",
    "\t\t\t\ttotal_length = int(r.headers.get('content-length'))\n",
    "\t\t\t\t\n",
    "\t\t\t\tfor ch in progress.bar(r.iter_content(chunk_size = 2391975),\n",
    "\t\t\t\t\t\t\t\t\texpected_size =(total_length / 1024) + 1):\n",
    "\t\t\t\t\tif ch:\n",
    "\t\t\t\t\t Pypdf.write(ch)\n",
    "\t\t\t\t\t\n",
    "\t\t# NPPR9-FWDCX-D2C8J-H872K-2YT43\n",
    "\t\telif \"jarvis\" in query:\n",
    "\t\t\t\n",
    "\t\t\twishMe()\n",
    "\t\t\tspeak(\"Jarvis 1 point o in your service Mister\")\n",
    "\t\t\tspeak(assname)\n",
    "\n",
    "\t\telif \"weather\" in query:\n",
    "\t\t\t\n",
    "\t\t\t# Google Open weather website\n",
    "\t\t\t# to get API of Open weather\n",
    "\t\t\tapi_key = \"Api key\"\n",
    "\t\t\tbase_url = \"http://api.openweathermap.org / data / 2.5 / weather?\"\n",
    "\t\t\tspeak(\" City name \")\n",
    "\t\t\tprint(\"City name : \")\n",
    "\t\t\tcity_name = takeCommand()\n",
    "\t\t\tcomplete_url = base_url + \"appid =\" + api_key + \"&q =\" + city_name\n",
    "\t\t\tresponse = requests.get(complete_url)\n",
    "\t\t\tx = response.json()\n",
    "\t\t\t\n",
    "\t\t\tif x[\"cod\"] != \"404\":\n",
    "\t\t\t\ty = x[\"main\"]\n",
    "\t\t\t\tcurrent_temperature = y[\"temp\"]\n",
    "\t\t\t\tcurrent_pressure = y[\"pressure\"]\n",
    "\t\t\t\tcurrent_humidiy = y[\"humidity\"]\n",
    "\t\t\t\tz = x[\"weather\"]\n",
    "\t\t\t\tweather_description = z[0][\"description\"]\n",
    "\t\t\t\tprint(\" Temperature (in kelvin unit) = \" +str(current_temperature)+\"\\n atmospheric pressure (in hPa unit) =\"+str(current_pressure) +\"\\n humidity (in percentage) = \" +str(current_humidiy) +\"\\n description = \" +str(weather_description))\n",
    "\t\t\t\n",
    "\t\t\telse:\n",
    "\t\t\t\tspeak(\" City Not Found \")\n",
    "\t\t\t\n",
    "\t\telif \"send message \" in query:\n",
    "\t\t\t\t# You need to create an account on Twilio to use this service\n",
    "\t\t\t\taccount_sid = 'Account Sid key'\n",
    "\t\t\t\tauth_token = 'Auth token'\n",
    "\t\t\t\tclient = Client(account_sid, auth_token)\n",
    "\n",
    "\t\t\t\tmessage = client.messages \\\n",
    "\t\t\t\t\t\t\t\t.create(\n",
    "\t\t\t\t\t\t\t\t\tbody = takeCommand(),\n",
    "\t\t\t\t\t\t\t\t\tfrom_='Sender No',\n",
    "\t\t\t\t\t\t\t\t\tto ='Receiver No'\n",
    "\t\t\t\t\t\t\t\t)\n",
    "\n",
    "\t\t\t\tprint(message.sid)\n",
    "\n",
    "\t\telif \"wikipedia\" in query:\n",
    "\t\t\twebbrowser.open(\"wikipedia.com\")\n",
    "\n",
    "\t\telif \"Good Morning\" in query:\n",
    "\t\t\tspeak(\"A warm\" +query)\n",
    "\t\t\tspeak(\"How are you Mister\")\n",
    "\t\t\tspeak(assname)\n",
    "\n",
    "\t\t# most asked question from google Assistant\n",
    "\t\telif \"will you be my gf\" in query or \"will you be my bf\" in query:\n",
    "\t\t\tspeak(\"I'm not sure about, may be you should give me some time\")\n",
    "\n",
    "\t\telif \"how are you\" in query:\n",
    "\t\t\tspeak(\"I'm fine, glad you me that\")\n",
    "\n",
    "\t\telif \"i love you\" in query:\n",
    "\t\t\tspeak(\"It's hard to understand\")\n",
    "\n",
    "\t\telif \"what is\" in query or \"who is\" in query:\n",
    "\t\t\t\n",
    "\t\t\t# Use the same API key\n",
    "\t\t\t# that we have generated earlier\n",
    "\t\t\tclient = wolframalpha.Client(\"API_ID\")\n",
    "\t\t\tres = client.query(query)\n",
    "\t\t\t\n",
    "\t\t\ttry:\n",
    "\t\t\t\tprint (next(res.results).text)\n",
    "\t\t\t\tspeak (next(res.results).text)\n",
    "\t\t\texcept StopIteration:\n",
    "\t\t\t\tprint (\"No results\")\n",
    "\n",
    "\t\t# elif \"\" in query:\n",
    "\t\t\t# Command go here\n",
    "\t\t\t# For adding more commands\n"
   ]
  },
  {
   "cell_type": "code",
   "execution_count": 20,
   "id": "81af3f07",
   "metadata": {},
   "outputs": [
    {
     "name": "stdout",
     "output_type": "stream",
     "text": [
      "Collecting pyAudioNote: you may need to restart the kernel to use updated packages."
     ]
    },
    {
     "name": "stderr",
     "output_type": "stream",
     "text": [
      "  error: subprocess-exited-with-error"
     ]
    },
    {
     "name": "stdout",
     "output_type": "stream",
     "text": [
      "\n",
      "\n"
     ]
    },
    {
     "name": "stderr",
     "output_type": "stream",
     "text": [
      "\n"
     ]
    },
    {
     "name": "stdout",
     "output_type": "stream",
     "text": [
      "  Using cached PyAudio-0.2.11.tar.gz (37 kB)"
     ]
    },
    {
     "name": "stderr",
     "output_type": "stream",
     "text": [
      "  "
     ]
    },
    {
     "name": "stdout",
     "output_type": "stream",
     "text": [
      "\n",
      "  Preparing metadata (setup.py): started"
     ]
    },
    {
     "name": "stderr",
     "output_type": "stream",
     "text": [
      "\n"
     ]
    },
    {
     "name": "stdout",
     "output_type": "stream",
     "text": [
      "\n"
     ]
    },
    {
     "name": "stderr",
     "output_type": "stream",
     "text": [
      "  python setup.py bdist_wheel did not run successfully."
     ]
    },
    {
     "name": "stdout",
     "output_type": "stream",
     "text": [
      "  Preparing metadata (setup.py): finished with status 'done'"
     ]
    },
    {
     "name": "stderr",
     "output_type": "stream",
     "text": [
      "\n",
      "  exit code: 1"
     ]
    },
    {
     "name": "stdout",
     "output_type": "stream",
     "text": [
      "\n",
      "Building wheels for collected packages: pyAudio"
     ]
    },
    {
     "name": "stderr",
     "output_type": "stream",
     "text": [
      "\n"
     ]
    },
    {
     "name": "stdout",
     "output_type": "stream",
     "text": [
      "\n",
      "  Building wheel for pyAudio (setup.py): started"
     ]
    },
    {
     "name": "stderr",
     "output_type": "stream",
     "text": [
      "  "
     ]
    },
    {
     "name": "stdout",
     "output_type": "stream",
     "text": [
      "\n"
     ]
    },
    {
     "name": "stderr",
     "output_type": "stream",
     "text": [
      "\n"
     ]
    },
    {
     "name": "stdout",
     "output_type": "stream",
     "text": [
      "  Building wheel for pyAudio (setup.py): finished with status 'error'"
     ]
    },
    {
     "name": "stderr",
     "output_type": "stream",
     "text": [
      "  [9 lines of output]"
     ]
    },
    {
     "name": "stdout",
     "output_type": "stream",
     "text": [
      "\n"
     ]
    },
    {
     "name": "stderr",
     "output_type": "stream",
     "text": [
      "\n"
     ]
    },
    {
     "name": "stdout",
     "output_type": "stream",
     "text": [
      "  Running setup.py clean for pyAudio"
     ]
    },
    {
     "name": "stderr",
     "output_type": "stream",
     "text": [
      "  running bdist_wheel"
     ]
    },
    {
     "name": "stdout",
     "output_type": "stream",
     "text": [
      "\n"
     ]
    },
    {
     "name": "stderr",
     "output_type": "stream",
     "text": [
      "\n"
     ]
    },
    {
     "name": "stdout",
     "output_type": "stream",
     "text": [
      "Failed to build pyAudio"
     ]
    },
    {
     "name": "stderr",
     "output_type": "stream",
     "text": [
      "  running build"
     ]
    },
    {
     "name": "stdout",
     "output_type": "stream",
     "text": [
      "\n"
     ]
    },
    {
     "name": "stderr",
     "output_type": "stream",
     "text": [
      "\n"
     ]
    },
    {
     "name": "stdout",
     "output_type": "stream",
     "text": [
      "Installing collected packages: pyAudio"
     ]
    },
    {
     "name": "stderr",
     "output_type": "stream",
     "text": [
      "  running build_py"
     ]
    },
    {
     "name": "stdout",
     "output_type": "stream",
     "text": [
      "\n"
     ]
    },
    {
     "name": "stderr",
     "output_type": "stream",
     "text": [
      "\n"
     ]
    },
    {
     "name": "stdout",
     "output_type": "stream",
     "text": [
      "  Running setup.py install for pyAudio: started"
     ]
    },
    {
     "name": "stderr",
     "output_type": "stream",
     "text": [
      "  creating build"
     ]
    },
    {
     "name": "stdout",
     "output_type": "stream",
     "text": [
      "\n"
     ]
    },
    {
     "name": "stderr",
     "output_type": "stream",
     "text": [
      "\n"
     ]
    },
    {
     "name": "stdout",
     "output_type": "stream",
     "text": [
      "  Running setup.py install for pyAudio: finished with status 'error'"
     ]
    },
    {
     "name": "stderr",
     "output_type": "stream",
     "text": [
      "  creating build\\lib.win-amd64-3.9"
     ]
    },
    {
     "name": "stdout",
     "output_type": "stream",
     "text": [
      "\n"
     ]
    },
    {
     "name": "stderr",
     "output_type": "stream",
     "text": [
      "\n",
      "  copying src\\pyaudio.py -> build\\lib.win-amd64-3.9\n",
      "  running build_ext\n",
      "  building '_portaudio' extension\n",
      "  error: Microsoft Visual C++ 14.0 or greater is required. Get it with \"Microsoft C++ Build Tools\": https://visualstudio.microsoft.com/visual-cpp-build-tools/\n",
      "  [end of output]\n",
      "  \n",
      "  note: This error originates from a subprocess, and is likely not a problem with pip.\n",
      "  ERROR: Failed building wheel for pyAudio\n",
      "  error: subprocess-exited-with-error\n",
      "  \n",
      "  Running setup.py install for pyAudio did not run successfully.\n",
      "  exit code: 1\n",
      "  \n",
      "  [9 lines of output]\n",
      "  running install\n",
      "  running build\n",
      "  running build_py\n",
      "  creating build\n",
      "  creating build\\lib.win-amd64-3.9\n",
      "  copying src\\pyaudio.py -> build\\lib.win-amd64-3.9\n",
      "  running build_ext\n",
      "  building '_portaudio' extension\n",
      "  error: Microsoft Visual C++ 14.0 or greater is required. Get it with \"Microsoft C++ Build Tools\": https://visualstudio.microsoft.com/visual-cpp-build-tools/\n",
      "  [end of output]\n",
      "  \n",
      "  note: This error originates from a subprocess, and is likely not a problem with pip.\n",
      "error: legacy-install-failure\n",
      "\n",
      "Encountered error while trying to install package.\n",
      "\n",
      "pyAudio\n",
      "\n",
      "note: This is an issue with the package mentioned above, not pip.\n",
      "hint: See above for output from the failure.\n"
     ]
    }
   ],
   "source": [
    "pip install pyAudio"
   ]
  }
 ],
 "metadata": {
  "kernelspec": {
   "display_name": "Python 3 (ipykernel)",
   "language": "python",
   "name": "python3"
  },
  "language_info": {
   "codemirror_mode": {
    "name": "ipython",
    "version": 3
   },
   "file_extension": ".py",
   "mimetype": "text/x-python",
   "name": "python",
   "nbconvert_exporter": "python",
   "pygments_lexer": "ipython3",
   "version": "3.9.7"
  }
 },
 "nbformat": 4,
 "nbformat_minor": 5
}
